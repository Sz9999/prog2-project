{
 "cells": [
  {
   "cell_type": "code",
   "execution_count": 1,
   "metadata": {},
   "outputs": [],
   "source": [
    "# to format get the information from the html\n",
    "import pandas as pd\n",
    "from bs4 import BeautifulSoup\n",
    "from IPython.display import display\n",
    "import re\n",
    "from dateutil import parser\n",
    "\n",
    "#to create and display plot\n",
    "import dash\n",
    "from dash import dcc, html\n",
    "from dash.dependencies import Input, Output\n",
    "import pandas as pd\n",
    "import plotly.express as px"
   ]
  },
  {
   "cell_type": "markdown",
   "metadata": {},
   "source": [
    "Get data"
   ]
  },
  {
   "cell_type": "code",
   "execution_count": 5,
   "metadata": {},
   "outputs": [],
   "source": [
    "# HTML fájl beolvasása\n",
    "with open('watch_history.html', 'r', encoding='utf-8') as file:\n",
    "    content = file.read()\n",
    "\n",
    "soup = BeautifulSoup(content, 'html.parser')\n"
   ]
  },
  {
   "cell_type": "code",
   "execution_count": 6,
   "metadata": {},
   "outputs": [],
   "source": [
    "data = []\n",
    "\n",
    "# Minden YouTube megtekintéshez tartozó elem megtalálása\n",
    "for item in soup.find_all('div', class_='outer-cell mdl-cell mdl-cell--12-col mdl-shadow--2dp'):\n",
    "    title_element = item.find('a', href=True)\n",
    "    title = title_element.text if title_element else None\n",
    "    \n",
    "    date_element = item.find('div', class_='content-cell mdl-cell mdl-cell--6-col mdl-typography--body-1')\n",
    "    date = date_element.text if date_element else None\n",
    "    \n",
    "    data.append({\n",
    "        'Title': title,\n",
    "        'Date': date\n",
    "    })"
   ]
  },
  {
   "cell_type": "code",
   "execution_count": 157,
   "metadata": {},
   "outputs": [],
   "source": [
    "# Adatok DataFrame-be rendezése\n",
    "df = pd.DataFrame(data)\n"
   ]
  },
  {
   "cell_type": "code",
   "execution_count": 158,
   "metadata": {},
   "outputs": [],
   "source": [
    "# Hónapok magyar neveinek és számuknak megfeleltetése\n",
    "month_map = {\n",
    "    'jan': '01',\n",
    "    'febr': '02',\n",
    "    'márc': '03',\n",
    "    'ápr': '04',\n",
    "    'máj': '05',\n",
    "    'jún': '06',\n",
    "    'júl': '07',\n",
    "    'aug': '08',\n",
    "    'szept': '09',\n",
    "    'okt': '10',\n",
    "    'nov': '11',\n",
    "    'dec': '12'\n",
    "}\n",
    "\n",
    "# Függvény a hónapok átalakítására\n",
    "def convert_month(text):\n",
    "    for month_name, month_num in month_map.items():\n",
    "        text = re.sub(month_name, month_num, text)\n",
    "    return text\n",
    "\n",
    "# Dátumok átalakítása\n",
    "df['Date'] = df['Date'].apply(convert_month)\n",
    "\n",
    "# Mintázat, hogy csak a dátumot tartsuk meg a szövegből\n",
    "date_pattern = re.compile(r'\\d{4}\\. \\d{2}\\. \\d{1,2}\\. \\d{1,2}:\\d{2}:\\d{2} CEST')\n",
    "\n",
    "def extract_date(text):\n",
    "    match = date_pattern.search(text)\n",
    "    if match:\n",
    "        return match.group(0)\n",
    "    return None\n",
    "\n",
    "df['Date'] = df['Date'].apply(extract_date)\n",
    "\n",
    "# Átalakítás datetime formátumba\n",
    "df['Date'] = pd.to_datetime(df['Date'], format='%Y. %m. %d. %H:%M:%S CEST', errors='coerce')\n"
   ]
  },
  {
   "cell_type": "markdown",
   "metadata": {},
   "source": [
    "Plot in Dash"
   ]
  },
  {
   "cell_type": "code",
   "execution_count": 2,
   "metadata": {},
   "outputs": [
    {
     "data": {
      "text/html": [
       "\n",
       "        <iframe\n",
       "            width=\"100%\"\n",
       "            height=\"650\"\n",
       "            src=\"http://127.0.0.1:8050/\"\n",
       "            frameborder=\"0\"\n",
       "            allowfullscreen\n",
       "            \n",
       "        ></iframe>\n",
       "        "
      ],
      "text/plain": [
       "<IPython.lib.display.IFrame at 0x25f34cf1cd0>"
      ]
     },
     "metadata": {},
     "output_type": "display_data"
    }
   ],
   "source": [
    "# Load your data\n",
    "df = pd.read_excel('history.xlsx')\n",
    "\n",
    "# Convert the 'Date' column to datetime\n",
    "df['Date'] = pd.to_datetime(df['Date'])\n",
    "\n",
    "# Extract year and month for filtering\n",
    "df['Year'] = df['Date'].dt.year\n",
    "df['Month'] = df['Date'].dt.month\n",
    "df['Day'] = df['Date'].dt.day\n",
    "df['Hour'] = df['Date'].dt.hour\n",
    "\n",
    "# Aggregate data by year, month, day, and hour\n",
    "agg_df = df.groupby(['Year', 'Month', 'Day', 'Hour']).size().reset_index(name='Count')\n",
    "\n",
    "# Initialize Dash app\n",
    "app = dash.Dash(__name__)\n",
    "\n",
    "app.layout = html.Div([\n",
    "    html.H1(\"YouTube Viewing History Heatmap\"),\n",
    "    dcc.Dropdown(\n",
    "        id='year-dropdown',\n",
    "        options=[{'label': str(year), 'value': year} for year in sorted(df['Year'].unique())],\n",
    "        value=df['Year'].max(),\n",
    "        clearable=False\n",
    "    ),\n",
    "    dcc.Dropdown(\n",
    "        id='month-dropdown',\n",
    "        options=[{'label': str(month), 'value': month} for month in range(1, 13)],\n",
    "        value=df['Month'].max(),\n",
    "        clearable=False\n",
    "    ),\n",
    "    dcc.Graph(id='heatmap')\n",
    "])\n",
    "\n",
    "@app.callback(\n",
    "    Output('heatmap', 'figure'),\n",
    "    Input('year-dropdown', 'value'),\n",
    "    Input('month-dropdown', 'value')\n",
    ")\n",
    "def update_heatmap(selected_year, selected_month):\n",
    "    filtered_df = agg_df[(agg_df['Year'] == selected_year) & (agg_df['Month'] == selected_month)]\n",
    "    \n",
    "    heatmap_data = filtered_df.pivot(index='Hour', columns='Day', values='Count').fillna(0)\n",
    "\n",
    "    fig = px.imshow(\n",
    "        heatmap_data,\n",
    "        labels=dict(x=\"Day of Month\", y=\"Hour of Day\", color=\"Video Count\"),\n",
    "        x=heatmap_data.columns,\n",
    "        y=heatmap_data.index,\n",
    "        color_continuous_scale='Viridis'\n",
    "    )\n",
    "    fig.update_layout(title=f'Videos Watched in {selected_month}/{selected_year}', xaxis_nticks=31)\n",
    "\n",
    "    return fig\n",
    "\n",
    "if __name__ == '__main__':\n",
    "    app.run_server(debug=True)"
   ]
  }
 ],
 "metadata": {
  "kernelspec": {
   "display_name": "Python 3",
   "language": "python",
   "name": "python3"
  },
  "language_info": {
   "codemirror_mode": {
    "name": "ipython",
    "version": 3
   },
   "file_extension": ".py",
   "mimetype": "text/x-python",
   "name": "python",
   "nbconvert_exporter": "python",
   "pygments_lexer": "ipython3",
   "version": "3.9.18"
  },
  "orig_nbformat": 4
 },
 "nbformat": 4,
 "nbformat_minor": 2
}
